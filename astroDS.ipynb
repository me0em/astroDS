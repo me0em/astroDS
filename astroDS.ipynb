{
 "cells": [
  {
   "cell_type": "markdown",
   "metadata": {},
   "source": [
    "#### Star: 1\n",
    "#### Galaxy: 2\n",
    "#### Quasar: 3"
   ]
  },
  {
   "cell_type": "code",
   "execution_count": 1,
   "metadata": {},
   "outputs": [],
   "source": [
    "import pandas as pd\n",
    "import numpy as np\n",
    "import matplotlib.pyplot as plt\n",
    "\n",
    "import warnings\n",
    "warnings.filterwarnings('ignore')"
   ]
  },
  {
   "cell_type": "code",
   "execution_count": 3,
   "metadata": {},
   "outputs": [],
   "source": [
    "full_data = pd.read_csv('/Users/atg/Desktop/Astronomy hackathon/Other/Code.2/SDSS_all.csv',\n",
    "                   header=0, sep=',')\n",
    "data = full_data.drop('redshift', axis=1)"
   ]
  },
  {
   "cell_type": "markdown",
   "metadata": {},
   "source": [
    "#### Visualisation & Temperture"
   ]
  },
  {
   "cell_type": "code",
   "execution_count": 4,
   "metadata": {},
   "outputs": [
    {
     "data": {
      "text/html": [
       "<div>\n",
       "<style scoped>\n",
       "    .dataframe tbody tr th:only-of-type {\n",
       "        vertical-align: middle;\n",
       "    }\n",
       "\n",
       "    .dataframe tbody tr th {\n",
       "        vertical-align: top;\n",
       "    }\n",
       "\n",
       "    .dataframe thead th {\n",
       "        text-align: right;\n",
       "    }\n",
       "</style>\n",
       "<table border=\"1\" class=\"dataframe\">\n",
       "  <thead>\n",
       "    <tr style=\"text-align: right;\">\n",
       "      <th></th>\n",
       "      <th>u</th>\n",
       "      <th>g</th>\n",
       "      <th>r</th>\n",
       "      <th>i</th>\n",
       "      <th>z</th>\n",
       "      <th>specClass</th>\n",
       "      <th>redshift</th>\n",
       "      <th>zerr</th>\n",
       "    </tr>\n",
       "  </thead>\n",
       "  <tbody>\n",
       "    <tr>\n",
       "      <th>0</th>\n",
       "      <td>18.610222</td>\n",
       "      <td>18.410435</td>\n",
       "      <td>18.455702</td>\n",
       "      <td>18.353773</td>\n",
       "      <td>18.133831</td>\n",
       "      <td>3</td>\n",
       "      <td>0.426671</td>\n",
       "      <td>0.001383</td>\n",
       "    </tr>\n",
       "    <tr>\n",
       "      <th>1</th>\n",
       "      <td>20.497831</td>\n",
       "      <td>20.161953</td>\n",
       "      <td>20.239063</td>\n",
       "      <td>20.412947</td>\n",
       "      <td>20.446335</td>\n",
       "      <td>1</td>\n",
       "      <td>-0.000104</td>\n",
       "      <td>0.000475</td>\n",
       "    </tr>\n",
       "  </tbody>\n",
       "</table>\n",
       "</div>"
      ],
      "text/plain": [
       "           u          g          r          i          z  specClass  redshift  \\\n",
       "0  18.610222  18.410435  18.455702  18.353773  18.133831          3  0.426671   \n",
       "1  20.497831  20.161953  20.239063  20.412947  20.446335          1 -0.000104   \n",
       "\n",
       "       zerr  \n",
       "0  0.001383  \n",
       "1  0.000475  "
      ]
     },
     "execution_count": 4,
     "metadata": {},
     "output_type": "execute_result"
    }
   ],
   "source": [
    "full_data.head(2)"
   ]
  },
  {
   "cell_type": "code",
   "execution_count": 125,
   "metadata": {},
   "outputs": [],
   "source": [
    "''' Convert ugriz to UBVRI and return U-B and B-V '''\n",
    "import ugriz_to_UBVRI as phconv\n",
    "\n",
    "def stars_perf(ugriz):\n",
    "    jester = phconv.Jester('star', ugriz)\n",
    "    karaali = phconv.Karaali('star', ugriz)\n",
    "    lupton = phconv.Lupton('star', ugriz)\n",
    "    U_B = B_V = list()\n",
    "\n",
    "    if jester is not None:\n",
    "        U_B.append(jester['U_B'])\n",
    "        B_V.append(jester['B_V'])\n",
    "        \n",
    "    if karaali is not None:\n",
    "        B_V.append(karaali['B_V'])\n",
    "    \n",
    "    if lupton is not None:\n",
    "        B_V.append(lupton['B_V'])\n",
    "\n",
    "    result = dict()\n",
    "    result['U_B'] = np.mean(U_B)\n",
    "    result['B_V'] = np.mean(B_V)\n",
    "    return result"
   ]
  },
  {
   "cell_type": "code",
   "execution_count": 126,
   "metadata": {},
   "outputs": [
    {
     "data": {
      "image/png": "[encoded data removed]",
      "text/plain": [
       "<Figure size 432x288 with 1 Axes>"
      ]
     },
     "metadata": {
      "needs_background": "light"
     },
     "output_type": "display_data"
    }
   ],
   "source": [
    "stars = full_data[full_data['specClass']==1]\n",
    "\n",
    "colums = stars.shape[0]\n",
    "tempertures = []\n",
    "\n",
    "for clm in range(colums):\n",
    "    u = stars['u'].iloc[clm]\n",
    "    g = stars['g'].iloc[clm]\n",
    "    r = stars['r'].iloc[clm]\n",
    "    i = stars['i'].iloc[clm]\n",
    "    z = stars['z'].iloc[clm]\n",
    "    ugriz = (u, g, r, i, z)\n",
    "    result = stars_perf(ugriz)\n",
    "    U_B = result['U_B']\n",
    "    B_V = result['B_V']\n",
    "\n",
    "    T = 4600* ( 1/(0.92*(B_V)+1.7) + 1/(0.92*(B_V)+0.62) )\n",
    "    \n",
    "    plt.scatter(U_B, B_V, s=10, c='green')\n",
    "    plt.scatter(g-r, u-g, s=15, c='black')\n",
    "    \n",
    "    tempertures.append(T)\n",
    "    \n",
    "\n",
    "plt.xlim(-1, 1)\n",
    "plt.ylim(-0.5, 2)\n",
    "plt.ylim(plt.ylim()[::-1])\n",
    "plt.axvline(x=0)\n",
    "plt.axhline(y=0)\n",
    "plt.show()"
   ]
  },
  {
   "cell_type": "code",
   "execution_count": 132,
   "metadata": {},
   "outputs": [],
   "source": [
    "stars['temperture'] = tempertures"
   ]
  },
  {
   "cell_type": "code",
   "execution_count": null,
   "metadata": {},
   "outputs": [],
   "source": []
  },
  {
   "cell_type": "code",
   "execution_count": null,
   "metadata": {},
   "outputs": [],
   "source": []
  }
 ],
 "metadata": {
  "kernelspec": {
   "display_name": "Python 3",
   "language": "python",
   "name": "python3"
  },
  "language_info": {
   "codemirror_mode": {
    "name": "ipython",
    "version": 3
   },
   "file_extension": ".py",
   "mimetype": "text/x-python",
   "name": "python",
   "nbconvert_exporter": "python",
   "pygments_lexer": "ipython3",
   "version": "3.7.0"
  }
 },
 "nbformat": 4,
 "nbformat_minor": 2
}
